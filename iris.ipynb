{
    "cells": [
        {
            "cell_type": "code",
            "execution_count": 1,
            "source": [
                "# Import dataset\r\n",
                "\r\n",
                "from sklearn.datasets import load_iris\r\n",
                "\r\n",
                "iris = load_iris()"
            ],
            "outputs": [],
            "metadata": {}
        },
        {
            "cell_type": "code",
            "execution_count": 2,
            "source": [
                "# Get data\r\n",
                "\r\n",
                "X = iris.data \r\n",
                "y = iris.target \r\n",
                "\r\n",
                "feature_names = iris.feature_names \r\n",
                "target_names = iris.target_names "
            ],
            "outputs": [],
            "metadata": {}
        },
        {
            "cell_type": "code",
            "execution_count": 3,
            "source": [
                "# Split data. Training Test Set\r\n",
                "\r\n",
                "from sklearn.model_selection import train_test_split\r\n",
                "\r\n",
                "X_train, X_test, y_train, y_test = train_test_split(X, y, test_size=0.2) # test_size = 0-1 (0% - 100% of data to test)\r\n",
                "\r\n",
                "# print(X_train.shape)\r\n",
                "# print(X_test.shape)"
            ],
            "outputs": [],
            "metadata": {}
        },
        {
            "cell_type": "code",
            "execution_count": 4,
            "source": [
                "# Create model\r\n",
                "\r\n",
                "# using NeighborsClassifier\r\n",
                "\r\n",
                "from sklearn.neighbors import KNeighborsClassifier\r\n",
                "\r\n",
                "neighbors_knn = KNeighborsClassifier(n_neighbors=3)\r\n",
                "\r\n",
                "neighbors_knn.fit(X_train, y_train)\r\n",
                "\r\n",
                "neighbors_y_pred = neighbors_knn.predict(X_test)"
            ],
            "outputs": [],
            "metadata": {}
        },
        {
            "cell_type": "code",
            "execution_count": 5,
            "source": [
                "# Check the output\r\n",
                "\r\n",
                "from sklearn import metrics\r\n",
                "\r\n",
                "print(f'NeighborsClassifier: {metrics.accuracy_score(y_test, neighbors_y_pred)}')"
            ],
            "outputs": [
                {
                    "output_type": "stream",
                    "name": "stdout",
                    "text": [
                        "NeighborsClassifier: 0.9333333333333333\n"
                    ]
                }
            ],
            "metadata": {}
        },
        {
            "cell_type": "code",
            "execution_count": 6,
            "source": [
                "# Create model\r\n",
                "\r\n",
                "# using DecisionTreeClassifier\r\n",
                "\r\n",
                "from sklearn.tree import DecisionTreeClassifier\r\n",
                "\r\n",
                "tree_knn = DecisionTreeClassifier()\r\n",
                "\r\n",
                "tree_knn.fit(X_train, y_train)\r\n",
                "\r\n",
                "tree_y_pred = tree_knn.predict(X_test)"
            ],
            "outputs": [],
            "metadata": {}
        },
        {
            "cell_type": "code",
            "execution_count": 7,
            "source": [
                "# Check the output\r\n",
                "\r\n",
                "from sklearn import metrics\r\n",
                "\r\n",
                "print(f'DecisionTreeClassifier: {metrics.accuracy_score(y_test, tree_y_pred)}')"
            ],
            "outputs": [
                {
                    "output_type": "stream",
                    "name": "stdout",
                    "text": [
                        "DecisionTreeClassifier: 0.9\n"
                    ]
                }
            ],
            "metadata": {}
        },
        {
            "cell_type": "code",
            "execution_count": 8,
            "source": [
                "# Test model\r\n",
                "\r\n",
                "sample = [[3, 5, 4, 5]]\r\n",
                "predictions = neighbors_knn.predict(sample)\r\n",
                "pred_species = [iris.target_names[p] for p in predictions]\r\n",
                "\r\n",
                "print(f'Prediction: {pred_species}')"
            ],
            "outputs": [
                {
                    "output_type": "stream",
                    "name": "stdout",
                    "text": [
                        "Prediction: ['virginica']\n"
                    ]
                }
            ],
            "metadata": {}
        },
        {
            "cell_type": "code",
            "execution_count": 9,
            "source": [
                "# Save model\r\n",
                "\r\n",
                "import joblib\r\n",
                "\r\n",
                "joblib.dump(neighbors_knn, 'neighbors_knn_mlbrain.joblib')"
            ],
            "outputs": [
                {
                    "output_type": "execute_result",
                    "data": {
                        "text/plain": [
                            "['neighbors_knn_mlbrain.joblib']"
                        ]
                    },
                    "metadata": {},
                    "execution_count": 9
                }
            ],
            "metadata": {}
        },
        {
            "cell_type": "code",
            "execution_count": 10,
            "source": [
                "# Test saved model\r\n",
                "\r\n",
                "model = joblib.load('neighbors_knn_mlbrain.joblib')\r\n",
                "model.predict(X_test)\r\n",
                "\r\n",
                "sample = [[3, 5, 4, 5]]\r\n",
                "predictions = model.predict(sample)\r\n",
                "pred_species = [iris.target_names[p] for p in predictions]\r\n",
                "\r\n",
                "print(f'Prediction: {pred_species}')"
            ],
            "outputs": [
                {
                    "output_type": "stream",
                    "name": "stdout",
                    "text": [
                        "Prediction: ['virginica']\n"
                    ]
                }
            ],
            "metadata": {}
        }
    ],
    "metadata": {
        "orig_nbformat": 4,
        "language_info": {
            "name": "python",
            "version": "3.8.8",
            "mimetype": "text/x-python",
            "codemirror_mode": {
                "name": "ipython",
                "version": 3
            },
            "pygments_lexer": "ipython3",
            "nbconvert_exporter": "python",
            "file_extension": ".py"
        },
        "kernelspec": {
            "name": "python3",
            "display_name": "Python 3.8.8 64-bit ('base': conda)"
        },
        "interpreter": {
            "hash": "b62778e57d21ed6fae609b923d87e1e97840c906cf360b02ffb380039419d29d"
        }
    },
    "nbformat": 4,
    "nbformat_minor": 2
}